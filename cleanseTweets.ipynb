{
 "cells": [
  {
   "cell_type": "code",
   "execution_count": 2,
   "metadata": {
    "collapsed": true
   },
   "outputs": [],
   "source": [
    "import pandas as pd\n",
    "import glob"
   ]
  },
  {
   "cell_type": "code",
   "execution_count": 4,
   "metadata": {},
   "outputs": [],
   "source": [
    "dict_tweets = {}\n",
    "dir = r'C:\\data\\*.csv'\n",
    "df_list = []"
   ]
  },
  {
   "cell_type": "code",
   "execution_count": 5,
   "metadata": {},
   "outputs": [
    {
     "name": "stdout",
     "output_type": "stream",
     "text": [
      "C:\\data\\2020-06-28_13.32.00_output.csv\nC:\\data\\2020-06-28_14.28.20_output.csv"
     ]
    },
    {
     "name": "stdout",
     "output_type": "stream",
     "text": [
      "\nC:\\data\\2020-06-29_21.51.51_output.csv\n"
     ]
    },
    {
     "name": "stdout",
     "output_type": "stream",
     "text": [
      "C:\\data\\2020-06-29_21.54.41_output.csv\n"
     ]
    },
    {
     "name": "stdout",
     "output_type": "stream",
     "text": [
      "C:\\data\\2020-06-29_22.06.32_output.csv\n"
     ]
    },
    {
     "name": "stdout",
     "output_type": "stream",
     "text": [
      "C:\\data\\2020-06-29_22.25.00_output.csv\n"
     ]
    },
    {
     "name": "stdout",
     "output_type": "stream",
     "text": [
      "C:\\data\\2020-07-01_13.13.50_output.csv\n"
     ]
    },
    {
     "name": "stdout",
     "output_type": "stream",
     "text": [
      "C:\\data\\all_data.csv\n"
     ]
    }
   ],
   "source": [
    "for csv_file in glob.iglob(dir):\n",
    "    print(csv_file)\n",
    "    df = pd.read_csv(csv_file, index_col=None, header=0)\n",
    "    df_list.append(df)"
   ]
  },
  {
   "cell_type": "code",
   "execution_count": 28,
   "metadata": {},
   "outputs": [
    {
     "name": "stdout",
     "output_type": "stream",
     "text": [
      "75\nnew york 107461\n"
     ]
    },
    {
     "name": "stdout",
     "output_type": "stream",
     "text": [
      "texas 4939\nflorida 8\ncalifornia 138\n"
     ]
    },
    {
     "name": "stdout",
     "output_type": "stream",
     "text": [
      "chicago 27441\n"
     ]
    }
   ],
   "source": [
    "import csv\n",
    "\n",
    "def read_from_text_file(file_name):\n",
    "    lst = []\n",
    "    with open(file_name, mode='r') as csv_file:\n",
    "        csv_reader = csv.reader(csv_file)\n",
    "        for row in csv_reader:\n",
    "            lst.append(row[0])\n",
    "    return lst\n",
    "\n",
    "keywords = read_from_text_file('keywords.txt')\n",
    "markets = read_from_text_file('markets.txt')\n",
    "\n",
    "print(len(keywords))\n",
    "\n",
    "for market in markets:\n",
    "    print(market, df.loc[df['market'] == market].shape[0])"
   ]
  },
  {
   "cell_type": "code",
   "execution_count": 21,
   "metadata": {},
   "outputs": [
    {
     "name": "stdout",
     "output_type": "stream",
     "text": [
      "306317\n"
     ]
    },
    {
     "name": "stdout",
     "output_type": "stream",
     "text": [
      "139987\n"
     ]
    }
   ],
   "source": [
    "start_date = '2018-01-01'\n",
    "df = pd.concat(df_list, axis=0, ignore_index=True)\n",
    "# keep only tweets posted after start_date and drop duplicate Tweets\n",
    "\n",
    "print(df.shape[0])\n",
    "\n",
    "df = df.loc[df['date'] >= start_date].drop_duplicates(subset=['text'])\n",
    "\n",
    "print(df.shape[0])\n",
    "\n",
    "# for market in markets:\n",
    "#     print(market, df.loc[df['market'] == market].shape[0])"
   ]
  },
  {
   "cell_type": "code",
   "execution_count": 29,
   "metadata": {},
   "outputs": [
    {
     "name": "stdout",
     "output_type": "stream",
     "text": [
      "united , 13550\ncvs , 11229\n"
     ]
    },
    {
     "name": "stdout",
     "output_type": "stream",
     "text": [
      "urgent care , 766\nemergency room , 703\n"
     ]
    },
    {
     "name": "stdout",
     "output_type": "stream",
     "text": [
      "ed , 5631\ner , 10548\n"
     ]
    },
    {
     "name": "stdout",
     "output_type": "stream",
     "text": [
      "the blues , 1634\nanthem , 888\n"
     ]
    },
    {
     "name": "stdout",
     "output_type": "stream",
     "text": [
      "cigna , 157\nhumana , 973\n"
     ]
    },
    {
     "name": "stdout",
     "output_type": "stream",
     "text": [
      "medicare , 5125\nmedicaid , 1495\n"
     ]
    },
    {
     "name": "stdout",
     "output_type": "stream",
     "text": [
      "kaiser , 957\nout of pocket , 1335\n"
     ]
    },
    {
     "name": "stdout",
     "output_type": "stream",
     "text": [
      "premium , 7872\nsurgery , 11632\n"
     ]
    },
    {
     "name": "stdout",
     "output_type": "stream",
     "text": [
      "surgical , 1803\nprocedure , 2088\n"
     ]
    },
    {
     "name": "stdout",
     "output_type": "stream",
     "text": [
      "treatment , 13256\ndiabetes , 3843\n"
     ]
    },
    {
     "name": "stdout",
     "output_type": "stream",
     "text": [
      "hypertension , 240\ncancer , 25269\n"
     ]
    },
    {
     "name": "stdout",
     "output_type": "stream",
     "text": [
      "dialysis , 479\nchronic , 2782\n"
     ]
    },
    {
     "name": "stdout",
     "output_type": "stream",
     "text": [
      "disease , 8126\nacute , 931\nradiology , 444\n"
     ]
    },
    {
     "name": "stdout",
     "output_type": "stream",
     "text": [
      "mri , 703\nx-ray , 360\nxray"
     ]
    },
    {
     "name": "stdout",
     "output_type": "stream",
     "text": [
      " , 118\nlab work , 618\nblood work , 322\n"
     ]
    },
    {
     "name": "stdout",
     "output_type": "stream",
     "text": [
      "bcbs , 143\nblue cross , 244\nhcsc , 80\n"
     ]
    },
    {
     "name": "stdout",
     "output_type": "stream",
     "text": [
      "deductible , 440\naetna , 193\npbm , 66\n"
     ]
    },
    {
     "name": "stdout",
     "output_type": "stream",
     "text": [
      "expressscripts , 21\npandemic health insurance , 187\ncopay , 186\n"
     ]
    },
    {
     "name": "stdout",
     "output_type": "stream",
     "text": [
      "minuteclinic , 11\nhealthcare plan , 711\n"
     ]
    },
    {
     "name": "stdout",
     "output_type": "stream",
     "text": [
      "uhc , 659\nbluecross , 13\nhealthcare coverage "
     ]
    },
    {
     "name": "stdout",
     "output_type": "stream",
     "text": [
      ", 240\ninsurance customer service , 19\n"
     ]
    },
    {
     "name": "stdout",
     "output_type": "stream",
     "text": [
      "optum , 36\nhealthcare claims , 43\n"
     ]
    },
    {
     "name": "stdout",
     "output_type": "stream",
     "text": [
      "renal disease , 15\nhealthcare call center , 1\ninsurance premium , 2\n"
     ]
    },
    {
     "name": "stdout",
     "output_type": "stream",
     "text": [
      "healthcare customer service , 9\nunited health care  , 85\ntakecare clinic , 8\n"
     ]
    },
    {
     "name": "stdout",
     "output_type": "stream",
     "text": [
      "emergency department , 130\nerectile dysfunction , 121\ncare mark , 240\n"
     ]
    },
    {
     "name": "stdout",
     "output_type": "stream",
     "text": [
      "express scripts , 17\noptumrx , 16\nAnthem BCBS , 31\n"
     ]
    },
    {
     "name": "stdout",
     "output_type": "stream",
     "text": [
      "ESRD , 24\nunited healthcare , 11\ncopayment , 11\ncaremark , 3\n"
     ]
    },
    {
     "name": "stdout",
     "output_type": "stream",
     "text": [
      "heath plan , 6\nblue shield , 7\ninsurance deductible , 2\ncovid health insurance"
     ]
    },
    {
     "name": "stdout",
     "output_type": "stream",
     "text": [
      " , 67\ncorona health insurance , 6\ncovid-19 health insurance , 1\nAnthem insurance , 1\n"
     ]
    },
    {
     "name": "stdout",
     "output_type": "stream",
     "text": [
      "medical premium , 1\nhealth premium , 2\ninsurance call center , 1\n139987"
     ]
    },
    {
     "name": "stdout",
     "output_type": "stream",
     "text": [
      "\n"
     ]
    }
   ],
   "source": [
    "# print(df.shape[0])\n",
    "\n",
    "sum = 0\n",
    "\n",
    "for keyword in keywords:\n",
    "    print(keyword, \",\", df.loc[df['keyword'] == keyword].shape[0])\n",
    "    sum += df.loc[df['keyword'] == keyword].shape[0]\n",
    "\n",
    "print(sum)"
   ]
  },
  {
   "cell_type": "code",
   "execution_count": null,
   "metadata": {},
   "outputs": [],
   "source": [
    "df.to_csv('C:/data/all_data.csv')"
   ]
  },
  {
   "cell_type": "code",
   "execution_count": 22,
   "metadata": {},
   "outputs": [
    {
     "name": "stdout",
     "output_type": "stream",
     "text": [
      "aetna 193\nunited health care  85\nunited healthcare 11\n"
     ]
    },
    {
     "name": "stdout",
     "output_type": "stream",
     "text": [
      "uhc 659\ncvs 11229\nminuteclinic 11\n"
     ]
    },
    {
     "name": "stdout",
     "output_type": "stream",
     "text": [
      "healthhub 0\ntakecare clinic 8\nurgent care 766\nemergency room 703\n"
     ]
    },
    {
     "name": "stdout",
     "output_type": "stream",
     "text": [
      "er 10548\nemergency department 130\nerectile dysfunction 121\nemergency room"
     ]
    },
    {
     "name": "stdout",
     "output_type": "stream",
     "text": [
      " 703\ncaremark 3\ncare mark 240\n"
     ]
    },
    {
     "name": "stdout",
     "output_type": "stream",
     "text": [
      "pbm 66\nexpressscripts 21\nexpress scripts 17\nesrx 0\n"
     ]
    },
    {
     "name": "stdout",
     "output_type": "stream",
     "text": [
      "optum 36\noptumrx 16\nbluecross"
     ]
    },
    {
     "name": "stdout",
     "output_type": "stream",
     "text": [
      " 13\nbcbs 143\nblue cross 244\nthe blues 1634\n"
     ]
    },
    {
     "name": "stdout",
     "output_type": "stream",
     "text": [
      "blue shield 7\nAnthem BCBS 31\nAnthem Blue Cross 0\nAnthem insurance 1\nhcsc 80\n"
     ]
    },
    {
     "name": "stdout",
     "output_type": "stream",
     "text": [
      "cigna 157\nhumana 973\nmedicare 5125\nmedicaid 1495\nkaiser 957\n"
     ]
    },
    {
     "name": "stdout",
     "output_type": "stream",
     "text": [
      "deductible 440\nmedical deductible 0\nhealth deductible 0\ninsurance deductible 2\nout of pocket 1335\n"
     ]
    },
    {
     "name": "stdout",
     "output_type": "stream",
     "text": [
      "out of pocket max 0\nout of pocket maximum 0\ncopay 186\ncopayment 11\npremium 7872\n"
     ]
    },
    {
     "name": "stdout",
     "output_type": "stream",
     "text": [
      "medical premium 1\nhealth premium 2\ninsurance premium 2\nhealthcare customer service 9\ninsurance customer service 19\nhealthcare call center 1\n"
     ]
    },
    {
     "name": "stdout",
     "output_type": "stream",
     "text": [
      "insurance call center 1\nmembercare customer service 0\nmembercare call center 0\npandemic health insurance 187\ncovid health insurance 67\ncovid-19 health insurance 1\n"
     ]
    },
    {
     "name": "stdout",
     "output_type": "stream",
     "text": [
      "corona health insurance 6\nhealthcare claims 43\nhealthcare coverage 240\nsurgery 11632\nsurgical 1803\nprocedure"
     ]
    },
    {
     "name": "stdout",
     "output_type": "stream",
     "text": [
      " 2088\ntreatment 13256\nhealthcare plan 711\nheath plan 6\ndiabetes 3843\nhypertension"
     ]
    },
    {
     "name": "stdout",
     "output_type": "stream",
     "text": [
      " 240\ncancer 25269\nrenal disease 15\nESRD 24\ndialysis 479\n"
     ]
    },
    {
     "name": "stdout",
     "output_type": "stream",
     "text": [
      "chronic 2782\ndisease 8126\nacute 931\nradiology 444\nmri"
     ]
    },
    {
     "name": "stdout",
     "output_type": "stream",
     "text": [
      " 703\nx-ray 360\nxray 118\nlab work 618\nblood work 322\n"
     ]
    }
   ],
   "source": [
    "for keyword in keywords:\n",
    "    print(keyword, df.loc[(df['keyword'] == keyword)].shape[0])"
   ]
  },
  {
   "cell_type": "code",
   "execution_count": null,
   "metadata": {},
   "outputs": [
    {
     "name": "stdout",
     "output_type": "stream",
     "text": [
      "Yo siempre estoy muy bien acompañada !! Dios que muñecos @lacalleteve @United Palace of… https://www.instagram.com/p/BedgNGxhMoZ/ [es:0.9999973328024085]\n"
     ]
    },
    {
     "name": "stdout",
     "output_type": "stream",
     "text": [
      "Flyover of newark_liberty . . . #avgeek #avgeeks #avgeekery @united @Newark Liberty… https://www.instagram.com/p/BeYXmcZDVIV/ [en:0.42856955644623596, af:0.2857155665114095, no:0.2857145182706768]\n"
     ]
    },
    {
     "name": "stdout",
     "output_type": "stream",
     "text": [
      "Jessey & Joy FEB14 #UnitedPalace descuento Internet/Teléfono, usando el codigo 'Amor' @United… https://www.instagram.com/p/BeRAtG2lLQ9/ [en:0.5714256901949436, es:0.42857180884265034]\n"
     ]
    },
    {
     "name": "stdout",
     "output_type": "stream",
     "text": [
      "Cicatriz de un día perfecto. en United Nations Organization - UNO -… https://www.instagram.com/p/BeJSnvwn7g4ivFz1uiFtjV9a4SRUG_WGTD8XYo0/ [es:0.8571393144079531, it:0.14285794573082536]\n"
     ]
    },
    {
     "name": "stdout",
     "output_type": "stream",
     "text": [
      "Pássaro de hoje para chegar em casa. Depois de mais uma #ces2018 #bigmetalbird #united em Newark… https://www.instagram.com/p/Bd6Up40DyLA/ [pt:0.9999969008859572]\n"
     ]
    },
    {
     "name": "stdout",
     "output_type": "stream",
     "text": [
      "Nações Unidas? em United Nations https://www.instagram.com/p/Bds10FhgCf1/ [pt:0.5714281584647914, en:0.428571623942656]\n"
     ]
    },
    {
     "name": "stdout",
     "output_type": "stream",
     "text": [
      "Todo para el gran Concierto De los Hermanos rosario en el United palace.!! tuboletajp allá nos… https://www.instagram.com/p/BdlpnvynZ1q/ [es:0.9999983265213837]\nWelcome to my morning angellalubala @millardayo harriskapiga @MsamiJoseph @amatabata @United… https://www.instagram.com/p/BdiB6iWldtc/ [tl:0.8571379338156975, en:0.14285694993534026]\n"
     ]
    },
    {
     "name": "stdout",
     "output_type": "stream",
     "text": [
      "2018/01/27: Brooklyn, NY, United States: Justus Worldwide & Brooklyn Deep Mike Ferrer's 50t… https://www.dancedeets.com/events/1844922662246995/justus-worldwide-brooklyn-deep-mike-ferrers-50th-bday-bash?utm_campaign=autopost&utm_medium=share&utm_source=twitter_feed [af:0.8571422781034795, en:0.14285757771536353]\n"
     ]
    },
    {
     "name": "stdout",
     "output_type": "stream",
     "text": [
      "I'm at CVS in West Orange, NJ https://www.swarmapp.com/c/lI23LXsciMJ [de:0.5714281979228186, en:0.4285711339419864]\n"
     ]
    }
   ],
   "source": [
    "from langdetect import detect, detect_langs\n",
    "\n",
    "counter = 0\n",
    "for index, row in df.iterrows():\n",
    "    if detect(row['text']) != 'en':\n",
    "        print(row['text'], detect_langs(row['text']))\n",
    "    # print(detect(row['text']))\n",
    "    if counter == 5000:\n",
    "        break\n",
    "    counter += 1\n"
   ]
  },
  {
   "cell_type": "code",
   "execution_count": null,
   "metadata": {},
   "outputs": [],
   "source": []
  }
 ],
 "metadata": {
  "kernelspec": {
   "display_name": "Python 2",
   "language": "python",
   "name": "python2"
  },
  "language_info": {
   "codemirror_mode": {
    "name": "ipython",
    "version": 2
   },
   "file_extension": ".py",
   "mimetype": "text/x-python",
   "name": "python",
   "nbconvert_exporter": "python",
   "pygments_lexer": "ipython2",
   "version": "2.7.6"
  }
 },
 "nbformat": 4,
 "nbformat_minor": 0
}
